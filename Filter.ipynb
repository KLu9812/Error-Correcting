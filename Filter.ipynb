{
 "cells": [
  {
   "cell_type": "code",
   "execution_count": 5,
   "id": "4e31f346-80bc-4cea-9d6e-3151614a3a0f",
   "metadata": {},
   "outputs": [
    {
     "name": "stdout",
     "output_type": "stream",
     "text": [
      "Selections saved to aya-expanse-32bresponses_with_selection.csv\n"
     ]
    }
   ],
   "source": [
    "import pandas as pd\n",
    "import re\n",
    "\n",
    "def extract_selection(text):\n",
    "    if pd.isna(text):\n",
    "        return ''\n",
    "    text = str(text)\n",
    "    # 1. Look for explicit answer lines (case-insensitive)\n",
    "    patterns = [\n",
    "        r'Choice:\\s*\\**\\s*([a-eA-E])\\)*',                         # Choice: d) ...\n",
    "        r'Answer:?\\s*\\**\\s*([a-eA-E])\\)*',                        # Answer: c)\n",
    "        r'Final Answer:?\\s*\\**\\s*([a-eA-E])\\)*',                  # Final Answer: e)\n",
    "        r'The correct answer is\\s*\\**\\s*([a-eA-E])\\)*',           # The correct answer is c)\n",
    "        r'Single letter choice:\\s*\\**\\s*([a-eA-E])\\**',           # Single letter choice: c\n",
    "        r'^[^a-zA-Z0-9]*\\**\\(?([a-eA-E])\\)?\\**\\s*(?:[).])?\\s*$',  # line is just \"d\" or \"(d)\" or \"**d**\"\n",
    "        r'\\b([a-eA-E])\\)\\s',                                      # matches \"d) \" inside text\n",
    "        r'\\b([a-eA-E])\\.',                                        # matches \"d.\" inside text\n",
    "        r'option\\s*\\**([a-eA-E])\\**',                             # option c\n",
    "    ]\n",
    "    for pattern in patterns:\n",
    "        m = re.search(pattern, text, flags=re.IGNORECASE | re.MULTILINE)\n",
    "        if m:\n",
    "            return m.group(1).lower()\n",
    "    # 2. Special case for \"None of these\"/\"None of the above\"\n",
    "    if re.search(r'none of (these|the above)', text, re.IGNORECASE):\n",
    "        return 'e'\n",
    "    # 3. As fallback, look for the last \"**[a-e]**\" in the response\n",
    "    m = re.findall(r'\\*\\*([a-eA-E])\\*\\*', text)\n",
    "    if m:\n",
    "        return m[-1].lower()\n",
    "    # 4. As a last resort, look for a) b) c) d) e) with no prefix\n",
    "    m = re.findall(r'\\b([a-eA-E])\\)', text)\n",
    "    if m:\n",
    "        return m[-1].lower()\n",
    "    return ''\n",
    "\n",
    "# Helper to process a file\n",
    "def process_file(path, colname='answers'):\n",
    "    df = pd.read_csv(path)\n",
    "    df['selection_filtered'] = df[colname].apply(extract_selection)\n",
    "    out_path = path.replace('.csv', '_filtered.csv')\n",
    "    df.to_csv(out_path, index=False)\n",
    "    return out_path\n",
    "\n",
    "# Process all your uploaded files (use correct column names if not 'answers')\n",
    "files = [\n",
    "    'aya-expanse-32bresponses_with_selection.csv',\n",
    "    'Sky-T1-32B-Previewresponses_with_selection.csv',\n",
    "    'QwQ-32Bresponses_with_selection.csv',\n",
    "    'DeepHermes-3-Mistral-24B-Previewresponses_with_selection.csv',\n",
    "]\n",
    "\n",
    "for f in files:\n",
    "    # Most files seem to use 'answers' as the column name\n",
    "    process_file(f, 'answers')\n",
    "\n",
    "print(\"Done. All filtered files are saved with _filtered.csv suffix.\")\n"
   ]
  },
  {
   "cell_type": "code",
   "execution_count": null,
   "id": "6c58215f-8cd5-4ba2-bd92-806e9ce0762b",
   "metadata": {},
   "outputs": [],
   "source": []
  }
 ],
 "metadata": {
  "kernelspec": {
   "display_name": "Python 3 (ipykernel)",
   "language": "python",
   "name": "python3"
  },
  "language_info": {
   "codemirror_mode": {
    "name": "ipython",
    "version": 3
   },
   "file_extension": ".py",
   "mimetype": "text/x-python",
   "name": "python",
   "nbconvert_exporter": "python",
   "pygments_lexer": "ipython3",
   "version": "3.9.12"
  }
 },
 "nbformat": 4,
 "nbformat_minor": 5
}
